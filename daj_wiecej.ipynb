{
  "nbformat": 4,
  "nbformat_minor": 0,
  "metadata": {
    "colab": {
      "provenance": [],
      "authorship_tag": "ABX9TyNbtaIOIA8yT3Ats2T6tz2z",
      "include_colab_link": true
    },
    "kernelspec": {
      "name": "python3",
      "display_name": "Python 3"
    },
    "language_info": {
      "name": "python"
    }
  },
  "cells": [
    {
      "cell_type": "markdown",
      "metadata": {
        "id": "view-in-github",
        "colab_type": "text"
      },
      "source": [
        "<a href=\"https://colab.research.google.com/github/YoungPrzemoDev/AI-Projects/blob/main/daj_wiecej.ipynb\" target=\"_parent\"><img src=\"https://colab.research.google.com/assets/colab-badge.svg\" alt=\"Open In Colab\"/></a>"
      ]
    },
    {
      "cell_type": "code",
      "execution_count": null,
      "metadata": {
        "id": "Yr9a3dj1JtVs"
      },
      "outputs": [],
      "source": [
        " #Multi layer perceptor"
      ]
    },
    {
      "cell_type": "code",
      "source": [
        "import torch\n",
        "import torch.nn.functional as F\n",
        "import matplotlib.pyplot as plt  # for making figures\n",
        "%matplotlib inline\n"
      ],
      "metadata": {
        "id": "eP3wIaUPKe5p"
      },
      "execution_count": null,
      "outputs": []
    },
    {
      "cell_type": "code",
      "source": [
        "# read in all the words\n",
        "words = open('/content/sample_data/names.txt', 'r').read().splitlines()\n",
        "words[:8]\n"
      ],
      "metadata": {
        "colab": {
          "base_uri": "https://localhost:8080/"
        },
        "id": "rP4bXI026CVx",
        "outputId": "4304a1af-0601-4db1-f98e-fdf54dfd20b1"
      },
      "execution_count": null,
      "outputs": [
        {
          "output_type": "execute_result",
          "data": {
            "text/plain": [
              "['emma', 'olivia', 'ava', 'isabella', 'sophia', 'charlotte', 'mia', 'amelia']"
            ]
          },
          "metadata": {},
          "execution_count": 7
        }
      ]
    },
    {
      "cell_type": "code",
      "source": [
        "len(words)"
      ],
      "metadata": {
        "colab": {
          "base_uri": "https://localhost:8080/"
        },
        "id": "3YcbvcQU6SOp",
        "outputId": "d887264d-906b-4b6a-993c-059ae4bad088"
      },
      "execution_count": null,
      "outputs": [
        {
          "output_type": "execute_result",
          "data": {
            "text/plain": [
              "32033"
            ]
          },
          "metadata": {},
          "execution_count": 8
        }
      ]
    },
    {
      "cell_type": "code",
      "source": [
        "# build the vocabulary of characters and mappings to/from integers\n",
        "chars = sorted(list(set(''.join(words))))\n",
        "stoi = {s:i+1 for i,s in enumerate(chars)}\n",
        "stoi['.'] = 0\n",
        "print(stoi)\n",
        "itos = {i:s for s, i in stoi.items()}\n",
        "#print(itos)\n"
      ],
      "metadata": {
        "colab": {
          "base_uri": "https://localhost:8080/"
        },
        "id": "eMeUC90c6IqT",
        "outputId": "a4c71b00-72c7-4689-bb03-aec1418782b8"
      },
      "execution_count": null,
      "outputs": [
        {
          "output_type": "stream",
          "name": "stdout",
          "text": [
            "{'a': 1, 'b': 2, 'c': 3, 'd': 4, 'e': 5, 'f': 6, 'g': 7, 'h': 8, 'i': 9, 'j': 10, 'k': 11, 'l': 12, 'm': 13, 'n': 14, 'o': 15, 'p': 16, 'q': 17, 'r': 18, 's': 19, 't': 20, 'u': 21, 'v': 22, 'w': 23, 'x': 24, 'y': 25, 'z': 26, '.': 0}\n"
          ]
        }
      ]
    },
    {
      "cell_type": "code",
      "source": [
        "# build the dataset\n",
        "block_size = 3  # context length: how many characters do we take to predict the next one?\n",
        "X, Y = [], []\n",
        "for w in words:\n",
        "   # print(w)\n",
        "    context = [0] * block_size #Tworzy liste 0 w tym przypadku [0,0,0]\n",
        "    for ch in w + '.':\n",
        "        ix = stoi[ch]\n",
        "        X.append(context)\n",
        "        Y.append(ix)\n",
        "       # print(''.join(itos[i] for i in context), '---->', itos[ix])\n",
        "        context = context[1:] + [ix]  # crop and append\n",
        "\n",
        "X = torch.tensor(X)\n",
        "Y = torch.tensor(Y)\n"
      ],
      "metadata": {
        "id": "NhcpCyPU6T4h"
      },
      "execution_count": null,
      "outputs": []
    },
    {
      "cell_type": "code",
      "source": [
        "X.shape"
      ],
      "metadata": {
        "colab": {
          "base_uri": "https://localhost:8080/"
        },
        "id": "5JAuJO0LFspd",
        "outputId": "b5d4747f-b03d-41c4-b88d-885004c6e461"
      },
      "execution_count": null,
      "outputs": [
        {
          "output_type": "execute_result",
          "data": {
            "text/plain": [
              "torch.Size([228146, 3])"
            ]
          },
          "metadata": {},
          "execution_count": 11
        }
      ]
    },
    {
      "cell_type": "code",
      "source": [
        "C = torch.randn(27,2) #wiersze to unikalne kategorie a kolumna to liczba wymiarów embedding - osadzania"
      ],
      "metadata": {
        "id": "-xBTPv8OGRbD"
      },
      "execution_count": null,
      "outputs": []
    },
    {
      "cell_type": "code",
      "source": [
        "emb = C[X]\n",
        "emb.shape"
      ],
      "metadata": {
        "colab": {
          "base_uri": "https://localhost:8080/"
        },
        "id": "w8rx1FWoz5uM",
        "outputId": "abfe4db9-7fa4-483c-f28a-5b6015e2136d"
      },
      "execution_count": null,
      "outputs": [
        {
          "output_type": "execute_result",
          "data": {
            "text/plain": [
              "torch.Size([228146, 3, 2])"
            ]
          },
          "metadata": {},
          "execution_count": 13
        }
      ]
    },
    {
      "cell_type": "code",
      "source": [
        "W1 = torch.randn(6,100)\n",
        "b1 = torch.randn(100)"
      ],
      "metadata": {
        "id": "eFtLJCIF0MLL"
      },
      "execution_count": null,
      "outputs": []
    },
    {
      "cell_type": "code",
      "source": [
        "emb"
      ],
      "metadata": {
        "colab": {
          "base_uri": "https://localhost:8080/"
        },
        "id": "dBfBAswC0qeI",
        "outputId": "cab91659-00bc-4ebe-af4b-6352326f9458"
      },
      "execution_count": null,
      "outputs": [
        {
          "output_type": "execute_result",
          "data": {
            "text/plain": [
              "tensor([[[-0.8480,  0.3390],\n",
              "         [-0.8480,  0.3390],\n",
              "         [-0.8480,  0.3390]],\n",
              "\n",
              "        [[-0.8480,  0.3390],\n",
              "         [-0.8480,  0.3390],\n",
              "         [-0.1527, -0.9825]],\n",
              "\n",
              "        [[-0.8480,  0.3390],\n",
              "         [-0.1527, -0.9825],\n",
              "         [-1.9904, -0.8678]],\n",
              "\n",
              "        ...,\n",
              "\n",
              "        [[-1.3566,  0.1116],\n",
              "         [-1.3566,  0.1116],\n",
              "         [ 0.4472,  0.0250]],\n",
              "\n",
              "        [[-1.3566,  0.1116],\n",
              "         [ 0.4472,  0.0250],\n",
              "         [-1.3566,  0.1116]],\n",
              "\n",
              "        [[ 0.4472,  0.0250],\n",
              "         [-1.3566,  0.1116],\n",
              "         [-0.8783, -1.4551]]])"
            ]
          },
          "metadata": {},
          "execution_count": 15
        }
      ]
    },
    {
      "cell_type": "code",
      "source": [
        "emb[:,2,:].shape # slicing"
      ],
      "metadata": {
        "colab": {
          "base_uri": "https://localhost:8080/"
        },
        "id": "pht9uAu614M3",
        "outputId": "3a968193-9373-4ce7-ec51-4e1f627792a8"
      },
      "execution_count": null,
      "outputs": [
        {
          "output_type": "execute_result",
          "data": {
            "text/plain": [
              "torch.Size([228146, 2])"
            ]
          },
          "metadata": {},
          "execution_count": 16
        }
      ]
    },
    {
      "cell_type": "code",
      "source": [
        "torch.cat([emb[:,0,:], emb[:,1,:]], 1).shape # .cat dokłada do tensora, specyfikujemy czy ma dolozyc do kolmnu czy do wiersza"
      ],
      "metadata": {
        "colab": {
          "base_uri": "https://localhost:8080/"
        },
        "id": "2r9DnzSg0e85",
        "outputId": "6ae98394-1271-43b8-879c-9ea25efc2314"
      },
      "execution_count": null,
      "outputs": [
        {
          "output_type": "execute_result",
          "data": {
            "text/plain": [
              "torch.Size([228146, 4])"
            ]
          },
          "metadata": {},
          "execution_count": 17
        }
      ]
    },
    {
      "cell_type": "code",
      "source": [
        "torch.unbind(emb,1) # daje tensory według którego wymiaru podzliles jesli 0 to 32 tensory o wymiarach 3 na 2 jesli 1 to 3 tensory 32 na 2"
      ],
      "metadata": {
        "colab": {
          "base_uri": "https://localhost:8080/"
        },
        "id": "BkB2ZHmI3f1c",
        "outputId": "20f8f268-0ddb-4bea-e904-3641248a4775"
      },
      "execution_count": null,
      "outputs": [
        {
          "output_type": "execute_result",
          "data": {
            "text/plain": [
              "(tensor([[-0.8480,  0.3390],\n",
              "         [-0.8480,  0.3390],\n",
              "         [-0.8480,  0.3390],\n",
              "         ...,\n",
              "         [-1.3566,  0.1116],\n",
              "         [-1.3566,  0.1116],\n",
              "         [ 0.4472,  0.0250]]),\n",
              " tensor([[-0.8480,  0.3390],\n",
              "         [-0.8480,  0.3390],\n",
              "         [-0.1527, -0.9825],\n",
              "         ...,\n",
              "         [-1.3566,  0.1116],\n",
              "         [ 0.4472,  0.0250],\n",
              "         [-1.3566,  0.1116]]),\n",
              " tensor([[-0.8480,  0.3390],\n",
              "         [-0.1527, -0.9825],\n",
              "         [-1.9904, -0.8678],\n",
              "         ...,\n",
              "         [ 0.4472,  0.0250],\n",
              "         [-1.3566,  0.1116],\n",
              "         [-0.8783, -1.4551]]))"
            ]
          },
          "metadata": {},
          "execution_count": 18
        }
      ]
    },
    {
      "cell_type": "code",
      "source": [
        "torch.cat(torch.unbind(emb,1),1) # dajemy 3 tesnory 32 na 2 i chcemy jes polaczyc kolumnami czyli drugim wymiarem zeby dostac 32 na 6"
      ],
      "metadata": {
        "colab": {
          "base_uri": "https://localhost:8080/"
        },
        "id": "-0YoM9C0413g",
        "outputId": "3986750f-3b81-4a8e-895c-216998ca06cf"
      },
      "execution_count": null,
      "outputs": [
        {
          "output_type": "execute_result",
          "data": {
            "text/plain": [
              "tensor([[-0.8480,  0.3390, -0.8480,  0.3390, -0.8480,  0.3390],\n",
              "        [-0.8480,  0.3390, -0.8480,  0.3390, -0.1527, -0.9825],\n",
              "        [-0.8480,  0.3390, -0.1527, -0.9825, -1.9904, -0.8678],\n",
              "        ...,\n",
              "        [-1.3566,  0.1116, -1.3566,  0.1116,  0.4472,  0.0250],\n",
              "        [-1.3566,  0.1116,  0.4472,  0.0250, -1.3566,  0.1116],\n",
              "        [ 0.4472,  0.0250, -1.3566,  0.1116, -0.8783, -1.4551]])"
            ]
          },
          "metadata": {},
          "execution_count": 19
        }
      ]
    },
    {
      "cell_type": "code",
      "source": [
        "#ALE AKURAT W TYM PRZYPADKU JEST LEPSZY SPOSÓB NA TO, INTERNALS"
      ],
      "metadata": {
        "id": "jrEccwYE5q2l"
      },
      "execution_count": null,
      "outputs": []
    },
    {
      "cell_type": "code",
      "source": [
        "emb.view(-1,6) # -1 dla tego ze nie musimy wtedy ustalac pierwszego wymiaru tylko samo jest liczone"
      ],
      "metadata": {
        "colab": {
          "base_uri": "https://localhost:8080/"
        },
        "id": "I8QgTpTG56K1",
        "outputId": "156063cd-f38c-4e3d-c610-86d3b572595f"
      },
      "execution_count": null,
      "outputs": [
        {
          "output_type": "execute_result",
          "data": {
            "text/plain": [
              "tensor([[-0.8480,  0.3390, -0.8480,  0.3390, -0.8480,  0.3390],\n",
              "        [-0.8480,  0.3390, -0.8480,  0.3390, -0.1527, -0.9825],\n",
              "        [-0.8480,  0.3390, -0.1527, -0.9825, -1.9904, -0.8678],\n",
              "        ...,\n",
              "        [-1.3566,  0.1116, -1.3566,  0.1116,  0.4472,  0.0250],\n",
              "        [-1.3566,  0.1116,  0.4472,  0.0250, -1.3566,  0.1116],\n",
              "        [ 0.4472,  0.0250, -1.3566,  0.1116, -0.8783, -1.4551]])"
            ]
          },
          "metadata": {},
          "execution_count": 21
        }
      ]
    },
    {
      "cell_type": "code",
      "source": [
        "h = torch.tanh(emb.view(-1,6).float() @ W1 + b1)\n",
        "\n",
        "# bias jest git bo bedzie dodawal wartosci do wszystkich wierszy\n",
        "# 32 na 100\n",
        "# 1  na 100\n",
        "# broadcasting na wierszach"
      ],
      "metadata": {
        "id": "kdDYrB_L67P_"
      },
      "execution_count": null,
      "outputs": []
    },
    {
      "cell_type": "code",
      "source": [
        "h"
      ],
      "metadata": {
        "colab": {
          "base_uri": "https://localhost:8080/"
        },
        "id": "JCMTBHPM7b0W",
        "outputId": "1df00271-695e-4e4e-ed83-0feb764a4ae1"
      },
      "execution_count": null,
      "outputs": [
        {
          "output_type": "execute_result",
          "data": {
            "text/plain": [
              "tensor([[-0.1749, -0.8700, -0.9606,  ...,  0.6806,  0.8477,  0.5526],\n",
              "        [ 0.7010,  0.1465, -0.8276,  ...,  0.5883, -0.9717, -0.8217],\n",
              "        [ 0.7183,  0.9964, -0.9929,  ..., -0.1824, -0.9898,  0.5355],\n",
              "        ...,\n",
              "        [-0.7891, -0.9938, -0.9930,  ...,  0.9749, -0.3658, -0.7658],\n",
              "        [ 0.9779,  0.9243, -0.4816,  ...,  0.8277, -0.0532,  0.6193],\n",
              "        [ 0.9187,  0.8593, -0.9990,  ..., -0.6571, -0.9830, -0.9555]])"
            ]
          },
          "metadata": {},
          "execution_count": 23
        }
      ]
    },
    {
      "cell_type": "code",
      "source": [
        "h.shape"
      ],
      "metadata": {
        "colab": {
          "base_uri": "https://localhost:8080/"
        },
        "id": "LiuCEPij7i9J",
        "outputId": "cce48bd3-fad1-41ac-81f8-ad7e07d25c3d"
      },
      "execution_count": null,
      "outputs": [
        {
          "output_type": "execute_result",
          "data": {
            "text/plain": [
              "torch.Size([228146, 100])"
            ]
          },
          "metadata": {},
          "execution_count": 24
        }
      ]
    },
    {
      "cell_type": "code",
      "source": [
        "W2 = torch.rand(100,27)\n",
        "b2 = torch.randn(27)"
      ],
      "metadata": {
        "id": "u2r3Rick8Ac9"
      },
      "execution_count": null,
      "outputs": []
    },
    {
      "cell_type": "code",
      "source": [
        "logits = h @ W2 + b2"
      ],
      "metadata": {
        "id": "ngA7t6FX-Sn7"
      },
      "execution_count": null,
      "outputs": []
    },
    {
      "cell_type": "code",
      "source": [
        "logits.shape"
      ],
      "metadata": {
        "colab": {
          "base_uri": "https://localhost:8080/"
        },
        "id": "jRF42vf1-WeR",
        "outputId": "0cabfbba-6fff-4c4e-97b4-d3542bd6eef2"
      },
      "execution_count": null,
      "outputs": [
        {
          "output_type": "execute_result",
          "data": {
            "text/plain": [
              "torch.Size([228146, 27])"
            ]
          },
          "metadata": {},
          "execution_count": 27
        }
      ]
    },
    {
      "cell_type": "code",
      "source": [
        "counts = logits.exp()"
      ],
      "metadata": {
        "id": "4TDQhX0n-d2a"
      },
      "execution_count": null,
      "outputs": []
    },
    {
      "cell_type": "code",
      "source": [
        "prob = counts/counts.sum(1, keepdims = True)"
      ],
      "metadata": {
        "id": "RQudeTxM-gtN"
      },
      "execution_count": null,
      "outputs": []
    },
    {
      "cell_type": "code",
      "source": [
        "prob.shape"
      ],
      "metadata": {
        "colab": {
          "base_uri": "https://localhost:8080/"
        },
        "id": "32eTNGh8-nmg",
        "outputId": "b418b204-2d7f-435e-bca9-24bc3995b1a4"
      },
      "execution_count": null,
      "outputs": [
        {
          "output_type": "execute_result",
          "data": {
            "text/plain": [
              "torch.Size([228146, 27])"
            ]
          },
          "metadata": {},
          "execution_count": 30
        }
      ]
    },
    {
      "cell_type": "code",
      "source": [
        "prob[2].sum()"
      ],
      "metadata": {
        "colab": {
          "base_uri": "https://localhost:8080/"
        },
        "id": "eskcqE_7-qm_",
        "outputId": "e68f2357-8d94-443c-a87b-9b23b50910e6"
      },
      "execution_count": null,
      "outputs": [
        {
          "output_type": "execute_result",
          "data": {
            "text/plain": [
              "tensor(1.)"
            ]
          },
          "metadata": {},
          "execution_count": 31
        }
      ]
    },
    {
      "cell_type": "code",
      "source": [
        "loss = -prob[torch.arange(32), Y].log().mean() # 32 bo ma byc number of samples a nie neuronow\n",
        "loss"
      ],
      "metadata": {
        "colab": {
          "base_uri": "https://localhost:8080/",
          "height": 159
        },
        "id": "IKh5VFyxVVlv",
        "outputId": "74a0c857-6e1e-4551-9e2d-ce20d19f98dd"
      },
      "execution_count": null,
      "outputs": [
        {
          "output_type": "error",
          "ename": "IndexError",
          "evalue": "shape mismatch: indexing tensors could not be broadcast together with shapes [32], [228146]",
          "traceback": [
            "\u001b[0;31m---------------------------------------------------------------------------\u001b[0m",
            "\u001b[0;31mIndexError\u001b[0m                                Traceback (most recent call last)",
            "\u001b[0;32m<ipython-input-32-92df70d6f2df>\u001b[0m in \u001b[0;36m<cell line: 1>\u001b[0;34m()\u001b[0m\n\u001b[0;32m----> 1\u001b[0;31m \u001b[0mloss\u001b[0m \u001b[0;34m=\u001b[0m \u001b[0;34m-\u001b[0m\u001b[0mprob\u001b[0m\u001b[0;34m[\u001b[0m\u001b[0mtorch\u001b[0m\u001b[0;34m.\u001b[0m\u001b[0marange\u001b[0m\u001b[0;34m(\u001b[0m\u001b[0;36m32\u001b[0m\u001b[0;34m)\u001b[0m\u001b[0;34m,\u001b[0m \u001b[0mY\u001b[0m\u001b[0;34m]\u001b[0m\u001b[0;34m.\u001b[0m\u001b[0mlog\u001b[0m\u001b[0;34m(\u001b[0m\u001b[0;34m)\u001b[0m\u001b[0;34m.\u001b[0m\u001b[0mmean\u001b[0m\u001b[0;34m(\u001b[0m\u001b[0;34m)\u001b[0m \u001b[0;31m# 32 bo ma byc number of samples a nie neuronow\u001b[0m\u001b[0;34m\u001b[0m\u001b[0;34m\u001b[0m\u001b[0m\n\u001b[0m\u001b[1;32m      2\u001b[0m \u001b[0mloss\u001b[0m\u001b[0;34m\u001b[0m\u001b[0;34m\u001b[0m\u001b[0m\n",
            "\u001b[0;31mIndexError\u001b[0m: shape mismatch: indexing tensors could not be broadcast together with shapes [32], [228146]"
          ]
        }
      ]
    },
    {
      "cell_type": "code",
      "source": [
        "#------SUMMARIZE--------"
      ],
      "metadata": {
        "id": "JFEiswoSXict"
      },
      "execution_count": null,
      "outputs": []
    },
    {
      "cell_type": "code",
      "source": [
        "X.shape, Y.shape"
      ],
      "metadata": {
        "colab": {
          "base_uri": "https://localhost:8080/"
        },
        "id": "mY7HmkzSXlyr",
        "outputId": "de180afe-d802-4fc0-d3e7-1615c9f5ba6f"
      },
      "execution_count": null,
      "outputs": [
        {
          "output_type": "execute_result",
          "data": {
            "text/plain": [
              "(torch.Size([228146, 3]), torch.Size([228146]))"
            ]
          },
          "metadata": {},
          "execution_count": 33
        }
      ]
    },
    {
      "cell_type": "code",
      "source": [
        "g= torch.Generator().manual_seed(21474836447)\n",
        "C = torch.randn((27,2),generator =g) # rows to uniklane labely a kolumny 2 bo tylko 27 labels\n",
        "W1 = torch.randn((6,100),generator=g) # dajemy na 6 bo 2 dimensional embeding * 3 =6\n",
        "b1 = torch.randn((100),generator= g)\n",
        "W2 = torch.randn((100,27),generator= g)\n",
        "b2 = torch.randn((27),generator= g)\n",
        "parameters=[C,W1,b1,W2,b2]"
      ],
      "metadata": {
        "id": "KWhFpiECXobk"
      },
      "execution_count": null,
      "outputs": []
    },
    {
      "cell_type": "code",
      "source": [
        "sum(p.nelement() for p in parameters)"
      ],
      "metadata": {
        "colab": {
          "base_uri": "https://localhost:8080/"
        },
        "id": "xFW85tQxYb0P",
        "outputId": "6e4cb3fc-241c-4e62-ecbb-268f19f28821"
      },
      "execution_count": null,
      "outputs": [
        {
          "output_type": "execute_result",
          "data": {
            "text/plain": [
              "3481"
            ]
          },
          "metadata": {},
          "execution_count": 35
        }
      ]
    },
    {
      "cell_type": "code",
      "source": [
        "X.shape"
      ],
      "metadata": {
        "colab": {
          "base_uri": "https://localhost:8080/"
        },
        "id": "JZ9KOC6Lo8gC",
        "outputId": "bf51db64-ea7f-4ae4-d27d-2388d2ef8945"
      },
      "execution_count": null,
      "outputs": [
        {
          "output_type": "execute_result",
          "data": {
            "text/plain": [
              "torch.Size([228146, 3])"
            ]
          },
          "metadata": {},
          "execution_count": 56
        }
      ]
    },
    {
      "cell_type": "code",
      "source": [
        "emb = C[X] # (228146,3,2)\n",
        "h = torch.tanh(emb.view(-1,6) @ W1 +b1) # (228146,100)\n",
        "logits = h @ W2 + b2 # (32, 27)\n",
        "counts = logits.exp()\n",
        "probs = counts/counts.sum(1, keepdims=True)\n",
        "loss = -probs[torch.arange(228146), Y].log().mean()\n",
        "loss"
      ],
      "metadata": {
        "colab": {
          "base_uri": "https://localhost:8080/"
        },
        "id": "_U9S8ZJMYhpc",
        "outputId": "7cff1991-854c-45fa-e99f-31f66e1aff5f"
      },
      "execution_count": null,
      "outputs": [
        {
          "output_type": "execute_result",
          "data": {
            "text/plain": [
              "tensor(2.3617, grad_fn=<NegBackward0>)"
            ]
          },
          "metadata": {},
          "execution_count": 57
        }
      ]
    },
    {
      "cell_type": "code",
      "source": [
        "loss = F.cross_entropy(logits,Y) # daje to samo co my napisalismy tylko z lespzym efficiency wiec od teraz uzywamy tego\n",
        "loss"
      ],
      "metadata": {
        "id": "U3jRm5jxj6MS"
      },
      "execution_count": null,
      "outputs": []
    },
    {
      "cell_type": "code",
      "source": [
        " for p in parameters:\n",
        "  p.requires_grad = True ## jesli nie damy tego kodu nie ebdzie nam optymalizowalo modelu, nie ebdzi eliczylo gradientu"
      ],
      "metadata": {
        "id": "RGFE5xtXmG18"
      },
      "execution_count": null,
      "outputs": []
    },
    {
      "cell_type": "code",
      "source": [
        "#Tworzymy tensor miedzy 0.001 a 1 aby odpowiendio dobrac krok uczenia\n",
        "lre = torch.linspace(-3, 0, 1000)\n",
        "lrs = 10**lre\n",
        "lrs"
      ],
      "metadata": {
        "id": "aPPxbYXH56KJ"
      },
      "execution_count": null,
      "outputs": []
    },
    {
      "cell_type": "code",
      "source": [
        "lri =[]\n",
        "lossi=[]\n",
        "\n",
        "for i in range(1000):\n",
        "\n",
        "  #mini batch\n",
        "  ix = torch.randint(0,X.shape[0], (32,)) # losujemy za kazdym razem 32 lcizby z przedzialu 0 i 228146 bo X[0] tyle jest\n",
        "\n",
        "  #Forward Pass\n",
        "  emb = C[X[ix]] # (32,3,2)\n",
        "  h = torch.tanh(emb.view(-1,6) @ W1 +b1) # (32,100)\n",
        "  logits = h @ W2 + b2 # (32, 27)\n",
        "  loss = F.cross_entropy(logits,Y[ix])\n",
        "  print(loss.item())\n",
        "\n",
        "  #Backward Pass\n",
        "  for p in parameters:\n",
        "    p.grad = None\n",
        "  loss.backward()\n",
        "\n",
        "  #update\n",
        "  lr =lrs[i]\n",
        "  for p in parameters:\n",
        "    p.data += -lr * p.grad\n",
        "\n",
        "  #track stats\n",
        "  lri.append(lre[i])\n",
        "  lossi.append(loss.item())\n",
        "\n",
        "#print(loss.item())"
      ],
      "metadata": {
        "id": "-CiGZG1YkY2M"
      },
      "execution_count": null,
      "outputs": []
    },
    {
      "cell_type": "code",
      "source": [
        "plt.plot(lri,lossi)"
      ],
      "metadata": {
        "id": "IxQp5k5BpUKJ"
      },
      "execution_count": null,
      "outputs": []
    },
    {
      "cell_type": "code",
      "source": [
        "#Widac ze 0.1 jest dobrym learning rate"
      ],
      "metadata": {
        "id": "e9fhn4002XF5"
      },
      "execution_count": null,
      "outputs": []
    },
    {
      "cell_type": "code",
      "source": [
        "#Teraz dzielimy nasze dane na treningowe walidacyjne i testowe"
      ],
      "metadata": {
        "id": "24FZSGy0EjTc"
      },
      "execution_count": null,
      "outputs": []
    },
    {
      "cell_type": "code",
      "source": [
        "# build the dataset\n",
        "block_size = 3 # context length: how many characters do we take to predict the next one?\n",
        "\n",
        "def build_dataset(words):\n",
        "  X, Y = [], []\n",
        "  for w in words:\n",
        "\n",
        "    #print(w)\n",
        "    context = [0] * block_size\n",
        "    for ch in w + '.':\n",
        "      ix = stoi[ch]\n",
        "      X.append(context)\n",
        "      Y.append(ix)\n",
        "      #print(''.join(itos[i] for i in context), '--->', itos[ix])\n",
        "      context = context[1:] + [ix] # crop and append\n",
        "\n",
        "  X = torch.tensor(X)\n",
        "  Y = torch.tensor(Y)\n",
        "  print(X.shape, Y.shape)\n",
        "  return X, Y\n",
        "\n",
        "import random\n",
        "random.seed(42)\n",
        "random.shuffle(words)\n",
        "n1 = int(0.8*len(words))\n",
        "n2 = int(0.9*len(words))\n",
        "\n",
        "Xtr, Ytr = build_dataset(words[:n1])\n",
        "Xdev, Ydev = build_dataset(words[n1:n2])\n",
        "Xte, Yte = build_dataset(words[n2:])"
      ],
      "metadata": {
        "colab": {
          "base_uri": "https://localhost:8080/"
        },
        "id": "H98CISapEsQw",
        "outputId": "a7e9941c-db56-488d-b62b-9d9ff83346cf"
      },
      "execution_count": null,
      "outputs": [
        {
          "output_type": "stream",
          "name": "stdout",
          "text": [
            "torch.Size([182441, 3]) torch.Size([182441])\n",
            "torch.Size([22902, 3]) torch.Size([22902])\n",
            "torch.Size([22803, 3]) torch.Size([22803])\n"
          ]
        }
      ]
    },
    {
      "cell_type": "code",
      "source": [
        "Xtr.shape, Ytr.shape"
      ],
      "metadata": {
        "colab": {
          "base_uri": "https://localhost:8080/"
        },
        "id": "yeRn9iX-GVtH",
        "outputId": "78f8e9b4-7c59-4b81-ff16-f176a3768c86"
      },
      "execution_count": null,
      "outputs": [
        {
          "output_type": "execute_result",
          "data": {
            "text/plain": [
              "(torch.Size([182441, 3]), torch.Size([182441]))"
            ]
          },
          "metadata": {},
          "execution_count": 81
        }
      ]
    },
    {
      "cell_type": "code",
      "source": [
        "g = torch.Generator().manual_seed(2147483647) # for reproducibility\n",
        "C = torch.randn((27,10),generator =g) # rows to uniklane labely a kolumny to embedings, jako hiperparametr, mozemy sobie dostosowywac\n",
        "W1 = torch.randn((30,200),generator=g) # dajemy na 30 bo 10 dimensional embeding * 3 bo X ma 3 kolumny bo taki jesty block size =30\n",
        "b1 = torch.randn((200),generator= g)\n",
        "W2 = torch.randn((200,27),generator= g)\n",
        "b2 = torch.randn((27),generator= g)\n",
        "parameters=[C,W1,b1,W2,b2]"
      ],
      "metadata": {
        "id": "2pZzT8t4GWA7"
      },
      "execution_count": null,
      "outputs": []
    },
    {
      "cell_type": "code",
      "source": [
        " for p in parameters:\n",
        "  p.requires_grad = True ## jesli nie damy tego kodu nie ebdzie nam optymalizowalo modelu, nie ebdzi eliczylo gradientu"
      ],
      "metadata": {
        "id": "sx_h73ijGWPH"
      },
      "execution_count": null,
      "outputs": []
    },
    {
      "cell_type": "code",
      "source": [
        "#Tworzymy tensor miedzy 0.001 a 1 aby odpowiendio dobrac krok uczenia\n",
        "lre = torch.linspace(-3, 0, 1000)\n",
        "lrs = 10**lre"
      ],
      "metadata": {
        "id": "B_NW6coLGhCO"
      },
      "execution_count": null,
      "outputs": []
    },
    {
      "cell_type": "code",
      "source": [
        "lri =[]\n",
        "lossi=[]\n",
        "stepi = []"
      ],
      "metadata": {
        "id": "WBCNRMQj6Qbs"
      },
      "execution_count": null,
      "outputs": []
    },
    {
      "cell_type": "code",
      "source": [
        "for i in range(200000):\n",
        "\n",
        "  #mini batch\n",
        "  ix = torch.randint(0,Xtr.shape[0], (64,)) # losujemy za kazdym razem 32 lcizby z przedzialu 0 i 228146 bo X[0] tyle jest\n",
        "\n",
        "  #Forward Pass\n",
        "  emb = C[Xtr[ix]] # (32,3,10)\n",
        "  h = torch.tanh(emb.view(-1,30) @ W1 +b1) # (32,100)\n",
        "  logits = h @ W2 + b2 # (32, 27)\n",
        "  loss = F.cross_entropy(logits,Ytr[ix])\n",
        "  #print(loss.item())\n",
        "\n",
        "\n",
        "  # backward pass\n",
        "  for p in parameters:\n",
        "    p.grad = None\n",
        "  loss.backward()\n",
        "\n",
        "  # update\n",
        "  #lr = lrs[i]\n",
        "  lr = 0.1 if i < 100000 else 0.01\n",
        "  for p in parameters:\n",
        "    p.data += -lr * p.grad\n",
        "\n",
        "  # track stats\n",
        "  #lri.append(lre[i])\n",
        "  stepi.append(i)\n",
        "  lossi.append(loss.log10().item())\n",
        "\n",
        "#print(loss.item())"
      ],
      "metadata": {
        "id": "gXw-APEtGhN0"
      },
      "execution_count": null,
      "outputs": []
    },
    {
      "cell_type": "code",
      "source": [
        "plt.plot(stepi,lossi)"
      ],
      "metadata": {
        "colab": {
          "base_uri": "https://localhost:8080/",
          "height": 447
        },
        "id": "ewjGJ5i-3_xE",
        "outputId": "e8e4e8c4-2168-4497-b9ec-b4656cee9013"
      },
      "execution_count": null,
      "outputs": [
        {
          "output_type": "execute_result",
          "data": {
            "text/plain": [
              "[<matplotlib.lines.Line2D at 0x7a2b9898a440>]"
            ]
          },
          "metadata": {},
          "execution_count": 87
        },
        {
          "output_type": "display_data",
          "data": {
            "text/plain": [
              "<Figure size 640x480 with 1 Axes>"
            ],
            "image/png": "[encoded data removed]"
          },
          "metadata": {}
        }
      ]
    },
    {
      "cell_type": "code",
      "source": [
        "emb = C[Xdev] # (32,10,3)\n",
        "h = torch.tanh(emb.view(-1,30) @ W1 +b1) # (32,100)\n",
        "logits = h @ W2 + b2 # (32, 27)\n",
        "loss = F.cross_entropy(logits, Ydev)\n",
        "loss"
      ],
      "metadata": {
        "colab": {
          "base_uri": "https://localhost:8080/"
        },
        "id": "1kbcMTFNGha-",
        "outputId": "6270933f-aeab-43d4-c6fb-841e5eabc8c4"
      },
      "execution_count": null,
      "outputs": [
        {
          "output_type": "execute_result",
          "data": {
            "text/plain": [
              "tensor(2.1531, grad_fn=<NllLossBackward0>)"
            ]
          },
          "metadata": {},
          "execution_count": 88
        }
      ]
    },
    {
      "cell_type": "code",
      "source": [
        "emb = C[Xtr] # (32,10,3)\n",
        "h = torch.tanh(emb.view(-1,30) @ W1 +b1) # (32,100)\n",
        "logits = h @ W2 + b2 # (32, 27)\n",
        "loss = F.cross_entropy(logits, Ytr)\n",
        "loss"
      ],
      "metadata": {
        "colab": {
          "base_uri": "https://localhost:8080/"
        },
        "id": "VxF7nG5sHwpU",
        "outputId": "3c03aa12-ad2b-4092-c275-b9fc54fd3994"
      },
      "execution_count": null,
      "outputs": [
        {
          "output_type": "execute_result",
          "data": {
            "text/plain": [
              "tensor(2.1151, grad_fn=<NllLossBackward0>)"
            ]
          },
          "metadata": {},
          "execution_count": 89
        }
      ]
    },
    {
      "cell_type": "code",
      "source": [
        "# visualize dimensions 0 and 1 of the embedding matrix C for all characters\n",
        "plt.figure(figsize=(8,8))\n",
        "plt.scatter(C[:,0].data, C[:,1].data, s=200)\n",
        "for i in range(C.shape[0]):\n",
        "    plt.text(C[i,0].item(), C[i,1].item(), itos[i], ha=\"center\", va=\"center\", color='white')\n",
        "plt.grid('minor')"
      ],
      "metadata": {
        "colab": {
          "base_uri": "https://localhost:8080/",
          "height": 676
        },
        "id": "8CH2cEJm8EE0",
        "outputId": "018e8352-0a40-425b-9f24-793ef8146709"
      },
      "execution_count": null,
      "outputs": [
        {
          "output_type": "display_data",
          "data": {
            "text/plain": [
              "<Figure size 800x800 with 1 Axes>"
            ],
            "image/png": "[encoded data removed]"
          },
          "metadata": {}
        }
      ]
    },
    {
      "cell_type": "code",
      "source": [
        "# sample from the model\n",
        "g = torch.Generator().manual_seed(2147483647 + 10)\n",
        "\n",
        "for _ in range(20):\n",
        "\n",
        "    out = []\n",
        "    context = [0] * block_size # initialize with all ...\n",
        "    while True:\n",
        "      emb = C[torch.tensor([context])] # (1,block_size,d)\n",
        "      h = torch.tanh(emb.view(1, -1) @ W1 + b1)\n",
        "      logits = h @ W2 + b2\n",
        "      probs = F.softmax(logits, dim=1)\n",
        "      ix = torch.multinomial(probs, num_samples=1, generator=g).item()\n",
        "      context = context[1:] + [ix]\n",
        "      out.append(ix)\n",
        "      if ix == 0:\n",
        "        break\n",
        "\n",
        "    print(''.join(itos[i] for i in out))"
      ],
      "metadata": {
        "colab": {
          "base_uri": "https://localhost:8080/"
        },
        "id": "5o2_RVkDC-Nl",
        "outputId": "ad7d9ab0-dbb5-4767-92bb-bdb0d78b10fe"
      },
      "execution_count": null,
      "outputs": [
        {
          "output_type": "stream",
          "name": "stdout",
          "text": [
            "mohaal.\n",
            "yazliee.\n",
            "mad.\n",
            "ryla.\n",
            "ren.\n",
            "rucendraega.\n",
            "zered.\n",
            "elin.\n",
            "shi.\n",
            "jen.\n",
            "eden.\n",
            "estanar.\n",
            "kayzior.\n",
            "kalin.\n",
            "shravrixhiriel.\n",
            "kinde.\n",
            "jenelanie.\n",
            "cayus.\n",
            "kaveer.\n",
            "yaque.\n"
          ]
        }
      ]
    }
  ]
}